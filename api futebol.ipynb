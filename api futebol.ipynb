{
 "cells": [
  {
   "cell_type": "code",
   "execution_count": 1,
   "metadata": {},
   "outputs": [
    {
     "name": "stdout",
     "output_type": "stream",
     "text": [
      "Requirement already satisfied: requests in c:\\users\\vscas\\anaconda3\\lib\\site-packages (2.26.0)\n",
      "Requirement already satisfied: certifi>=2017.4.17 in c:\\users\\vscas\\anaconda3\\lib\\site-packages (from requests) (2020.6.20)\n",
      "Requirement already satisfied: charset-normalizer~=2.0.0; python_version >= \"3\" in c:\\users\\vscas\\anaconda3\\lib\\site-packages (from requests) (2.0.6)\n",
      "Requirement already satisfied: idna<4,>=2.5; python_version >= \"3\" in c:\\users\\vscas\\anaconda3\\lib\\site-packages (from requests) (2.10)\n",
      "Requirement already satisfied: urllib3<1.27,>=1.21.1 in c:\\users\\vscas\\anaconda3\\lib\\site-packages (from requests) (1.26.7)\n"
     ]
    }
   ],
   "source": [
    "! pip3 install requests"
   ]
  },
  {
   "cell_type": "code",
   "execution_count": 2,
   "metadata": {},
   "outputs": [],
   "source": [
    "from bs4 import BeautifulSoup\n",
    "import requests\n",
    "import pandas as pd"
   ]
  },
  {
   "cell_type": "code",
   "execution_count": 3,
   "metadata": {},
   "outputs": [],
   "source": [
    "url = 'https://www.ogol.com.br/team_stats_compare.php?tpstat=48&id_edicao=154298'"
   ]
  },
  {
   "cell_type": "code",
   "execution_count": 4,
   "metadata": {},
   "outputs": [
    {
     "data": {
      "text/plain": [
       "<Response [200]>"
      ]
     },
     "execution_count": 4,
     "metadata": {},
     "output_type": "execute_result"
    }
   ],
   "source": [
    "response = requests.get(url)\n",
    "response"
   ]
  },
  {
   "cell_type": "code",
   "execution_count": 5,
   "metadata": {},
   "outputs": [],
   "source": [
    "html_content = response.content"
   ]
  },
  {
   "cell_type": "code",
   "execution_count": 6,
   "metadata": {},
   "outputs": [],
   "source": [
    "soup = BeautifulSoup(html_content, \"lxml\")"
   ]
  },
  {
   "cell_type": "code",
   "execution_count": 7,
   "metadata": {},
   "outputs": [],
   "source": [
    "url_tag = ['forma','golos','goloss','18','19', '20', '21', '47', '48', '53', '54', '55', '56', '57','58', '59', '60', '61', '62', '63']"
   ]
  },
  {
   "cell_type": "code",
   "execution_count": 8,
   "metadata": {},
   "outputs": [],
   "source": [
    "url_resultado = \"https://www.ogol.com.br/team_stats_compare.php?tpstat=forma&id_edicao=154298\"\n",
    "df_list_res = pd.read_html(url_resultado)\n",
    "result = pd.DataFrame(df_list_res[1])"
   ]
  },
  {
   "cell_type": "code",
   "execution_count": 9,
   "metadata": {},
   "outputs": [],
   "source": [
    "url_posse = \"https://www.ogol.com.br/team_stats_compare.php?tpstat=48&id_edicao=154298\"\n",
    "df_list_posse = pd.read_html(url_posse)\n",
    "posse = pd.DataFrame(df_list_posse[1])"
   ]
  },
  {
   "cell_type": "code",
   "execution_count": 10,
   "metadata": {},
   "outputs": [],
   "source": [
    "url_gol = \"https://www.ogol.com.br/team_stats_compare.php?tpstat=golos&id_edicao=154298\"\n",
    "df_list_gol = pd.read_html(url_gol)\n",
    "gol = pd.DataFrame(df_list_gol[1])"
   ]
  },
  {
   "cell_type": "code",
   "execution_count": 11,
   "metadata": {},
   "outputs": [],
   "source": [
    "url_golc = \"https://www.ogol.com.br/team_stats_compare.php?tpstat=goloss&id_edicao=154298\"\n",
    "df_list_golc = pd.read_html(url_golc)\n",
    "golc = pd.DataFrame(df_list_golc[1])"
   ]
  },
  {
   "cell_type": "code",
   "execution_count": 12,
   "metadata": {},
   "outputs": [],
   "source": [
    "url_chute = \"https://www.ogol.com.br/team_stats_compare.php?tpstat=18&id_edicao=154298\"\n",
    "df_list_chute = pd.read_html(url_chute)\n",
    "chute = pd.DataFrame(df_list_chute[1])"
   ]
  },
  {
   "cell_type": "code",
   "execution_count": 13,
   "metadata": {},
   "outputs": [],
   "source": [
    "url_falta = \"https://www.ogol.com.br/team_stats_compare.php?tpstat=19&id_edicao=154298\"\n",
    "df_list_falta = pd.read_html(url_falta)\n",
    "falta = pd.DataFrame(df_list_falta[1])"
   ]
  },
  {
   "cell_type": "code",
   "execution_count": 14,
   "metadata": {},
   "outputs": [],
   "source": [
    "url_escanteio = \"https://www.ogol.com.br/team_stats_compare.php?tpstat=20&id_edicao=154298\"\n",
    "df_list_escanteio = pd.read_html(url_escanteio)\n",
    "escanteio = pd.DataFrame(df_list_escanteio[1])"
   ]
  },
  {
   "cell_type": "code",
   "execution_count": 15,
   "metadata": {},
   "outputs": [],
   "source": [
    "url_impedimento = \"https://www.ogol.com.br/team_stats_compare.php?tpstat=21&id_edicao=154298\"\n",
    "df_list_impedimento = pd.read_html(url_impedimento)\n",
    "impedimento = pd.DataFrame(df_list_impedimento[1])"
   ]
  },
  {
   "cell_type": "code",
   "execution_count": 16,
   "metadata": {},
   "outputs": [],
   "source": [
    "url_chute_no_gol = \"https://www.ogol.com.br/team_stats_compare.php?tpstat=47&id_edicao=154298\"\n",
    "df_list_chute_no_gol = pd.read_html(url_chute_no_gol)\n",
    "chute_no_gol = pd.DataFrame(df_list_chute_no_gol[1])"
   ]
  },
  {
   "cell_type": "code",
   "execution_count": 17,
   "metadata": {},
   "outputs": [],
   "source": [
    "url_passe_certo = \"https://www.ogol.com.br/team_stats_compare.php?tpstat=53&id_edicao=154298\"\n",
    "df_list_passe_certo = pd.read_html(url_passe_certo)\n",
    "passe_certo = pd.DataFrame(df_list_passe_certo[1])"
   ]
  },
  {
   "cell_type": "code",
   "execution_count": 18,
   "metadata": {},
   "outputs": [],
   "source": [
    "url_total_passe = \"https://www.ogol.com.br/team_stats_compare.php?tpstat=54&id_edicao=154298\"\n",
    "df_list_total_passe = pd.read_html(url_total_passe)\n",
    "total_passe = pd.DataFrame(df_list_total_passe[1])"
   ]
  },
  {
   "cell_type": "code",
   "execution_count": 19,
   "metadata": {},
   "outputs": [],
   "source": [
    "url_divididas = \"https://www.ogol.com.br/team_stats_compare.php?tpstat=55&id_edicao=154298\"\n",
    "df_list_divididas = pd.read_html(url_divididas)\n",
    "divididas = pd.DataFrame(df_list_divididas[1])"
   ]
  },
  {
   "cell_type": "code",
   "execution_count": 20,
   "metadata": {},
   "outputs": [],
   "source": [
    "url_defesas = \"https://www.ogol.com.br/team_stats_compare.php?tpstat=56&id_edicao=154298\"\n",
    "df_list_defesas = pd.read_html(url_defesas)\n",
    "defesas = pd.DataFrame(df_list_defesas[1])"
   ]
  },
  {
   "cell_type": "code",
   "execution_count": 21,
   "metadata": {},
   "outputs": [],
   "source": [
    "url_faltas_sofridas = \"https://www.ogol.com.br/team_stats_compare.php?tpstat=57&id_edicao=154298\"\n",
    "df_list_faltas_sofridas = pd.read_html(url_faltas_sofridas)\n",
    "faltas_sofridas = pd.DataFrame(df_list_faltas_sofridas[1])"
   ]
  },
  {
   "cell_type": "code",
   "execution_count": 22,
   "metadata": {},
   "outputs": [],
   "source": [
    "url_chutes_fora = \"https://www.ogol.com.br/team_stats_compare.php?tpstat=58&id_edicao=154298\"\n",
    "df_list_chutes_fora = pd.read_html(url_chutes_fora)\n",
    "chutes_fora = pd.DataFrame(df_list_chutes_fora[1])"
   ]
  },
  {
   "cell_type": "code",
   "execution_count": 23,
   "metadata": {},
   "outputs": [],
   "source": [
    "url_tiro_meta = \"https://www.ogol.com.br/team_stats_compare.php?tpstat=59&id_edicao=154298\"\n",
    "df_list_tiro_meta = pd.read_html(url_tiro_meta)\n",
    "tiro_meta = pd.DataFrame(df_list_tiro_meta[1])"
   ]
  },
  {
   "cell_type": "code",
   "execution_count": 24,
   "metadata": {},
   "outputs": [],
   "source": [
    "url_divididas_ganha = \"https://www.ogol.com.br/team_stats_compare.php?tpstat=60&id_edicao=154298\"\n",
    "df_list_divididas_ganha = pd.read_html(url_divididas_ganha)\n",
    "divididas_ganha = pd.DataFrame(df_list_divididas_ganha[1])"
   ]
  },
  {
   "cell_type": "code",
   "execution_count": 25,
   "metadata": {},
   "outputs": [],
   "source": [
    "url_cortes = \"https://www.ogol.com.br/team_stats_compare.php?tpstat=61&id_edicao=154298\"\n",
    "df_list_cortes = pd.read_html(url_cortes)\n",
    "cortes = pd.DataFrame(df_list_cortes[1])"
   ]
  },
  {
   "cell_type": "code",
   "execution_count": 26,
   "metadata": {},
   "outputs": [],
   "source": [
    "url_lançamentos = \"https://www.ogol.com.br/team_stats_compare.php?tpstat=62&id_edicao=154298\"\n",
    "df_lançamentos = pd.read_html(url_lançamentos)\n",
    "lançamentos = pd.DataFrame(df_lançamentos[1])"
   ]
  },
  {
   "cell_type": "code",
   "execution_count": 27,
   "metadata": {},
   "outputs": [],
   "source": [
    "url_chutes_bloqueados = \"https://www.ogol.com.br/team_stats_compare.php?tpstat=63&id_edicao=154298\"\n",
    "df_chutes_bloqueados = pd.read_html(url_chutes_bloqueados)\n",
    "chutes_bloqueados = pd.DataFrame(df_chutes_bloqueados[1])"
   ]
  },
  {
   "cell_type": "code",
   "execution_count": 67,
   "metadata": {},
   "outputs": [],
   "source": [
    "scout1 = result[['Unnamed: 0', '1', '2','3','4','5','6','7','8','9','10','11','12','13','14','15','16','17','18','19']]\n",
    "\n",
    "scout2 = posse[['Unnamed: 0', '1', '2','3','4','5','6','7','8','9','10','11','12','13','14','15','16','17','18','19']]\n",
    "\n",
    "scout3 = gol[['Unnamed: 0', '1', '2','3','4','5','6','7','8','9','10','11','12','13','14','15','16','17','18','19']]\n",
    "\n",
    "scout4 = golc[['Unnamed: 0', '1', '2','3','4','5','6','7','8','9','10','11','12','13','14','15','16','17','18','19']]\n",
    "\n",
    "scout5 = chute[['Unnamed: 0', '1', '2','3','4','5','6','7','8','9','10','11','12','13','14','15','16','17','18','19']]\n",
    "\n",
    "scout6 = falta[['Unnamed: 0', '1', '2','3','4','5','6','7','8','9','10','11','12','13','14','15','16','17','18','19']]\n",
    "\n",
    "scout7 = escanteio[['Unnamed: 0', '1', '2','3','4','5','6','7','8','9','10','11','12','13','14','15','16','17','18','19']]\n",
    "\n",
    "scout8 = impedimento[['Unnamed: 0', '1', '2','3','4','5','6','7','8','9','10','11','12','13','14','15','16','17','18','19']]\n",
    "\n",
    "scout9 = chute_no_gol[['Unnamed: 0', '1', '2','3','4','5','6','7','8','9','10','11','12','13','14','15','16','17','18','19']]\n",
    "\n",
    "scout10 = passe_certo[['Unnamed: 0', '1', '2','3','4','5','6','7','8','9','10','11','12','13','14','15','16','17','18','19']]\n",
    "\n",
    "scout11 = total_passe[['Unnamed: 0', '1', '2','3','4','5','6','7','8','9','10','11','12','13','14','15','16','17','18','19']]\n",
    "\n",
    "scout12 = defesas[['Unnamed: 0', '1', '2','3','4','5','6','7','8','9','10','11','12','13','14','15','16','17','18','19']]\n",
    "\n",
    "scout13 = faltas_sofridas[['Unnamed: 0', '1', '2','3','4','5','6','7','8','9','10','11','12','13','14','15','16','17','18','19']]\n",
    "\n",
    "scout14 = chutes_fora[['Unnamed: 0', '1', '2','3','4','5','6','7','8','9','10','11','12','13','14','15','16','17','18','19']]\n",
    "\n",
    "scout15 = divididas_ganha[['Unnamed: 0', '1', '2','3','4','5','6','7','8','9','10','11','12','13','14','15','16','17','18','19']]\n",
    "\n",
    "scout16 = cortes[['Unnamed: 0', '1', '2','3','4','5','6','7','8','9','10','11','12','13','14','15','16','17','18','19']]"
   ]
  },
  {
   "cell_type": "code",
   "execution_count": 77,
   "metadata": {},
   "outputs": [],
   "source": [
    "resultado_df = scout1.melt(id_vars='Unnamed: 0', var_name= 'Rodada', value_name='Resultado')\n",
    "\n",
    "posse_df = scout2.melt(id_vars='Unnamed: 0', var_name= 'Rodada', value_name='Posse de Bola')\n",
    "\n",
    "gol_df = scout3.melt(id_vars='Unnamed: 0', var_name= 'Rodada', value_name='Gols Feitos')\n",
    "\n",
    "golc_df = scout4.melt(id_vars='Unnamed: 0', var_name= 'Rodada', value_name='Gols Sofridos')\n",
    "\n",
    "chute_df = scout5.melt(id_vars='Unnamed: 0', var_name= 'Rodada', value_name='Total de Chutes')\n",
    "\n",
    "falta_df = scout6.melt(id_vars='Unnamed: 0', var_name= 'Rodada', value_name='Faltas Cometidas')\n",
    "\n",
    "escanteio_df = scout7.melt(id_vars='Unnamed: 0', var_name= 'Rodada', value_name='Escanteio')\n",
    "\n",
    "impedimento_df = scout8.melt(id_vars='Unnamed: 0', var_name= 'Rodada', value_name='Impedimento')\n",
    "\n",
    "chute_no_gol_df = scout9.melt(id_vars='Unnamed: 0', var_name= 'Rodada', value_name='Chute ao Gol')\n",
    "\n",
    "passe_certo_df = scout10.melt(id_vars='Unnamed: 0', var_name= 'Rodada', value_name='Passes Certos')\n",
    "\n",
    "total_passe_df = scout11.melt(id_vars='Unnamed: 0', var_name= 'Rodada', value_name='Total de Passes')\n",
    "\n",
    "defesas_df = scout12.melt(id_vars='Unnamed: 0', var_name= 'Rodada', value_name='Defesas')\n",
    "\n",
    "faltas_sofridas_df = scout13.melt(id_vars='Unnamed: 0', var_name= 'Rodada', value_name='Faltas sofridas')\n",
    "\n",
    "chutes_fora_df = scout14.melt(id_vars='Unnamed: 0', var_name= 'Rodada', value_name='Chutes Errados')\n",
    "\n",
    "divididas_ganhas_df = scout16.melt(id_vars='Unnamed: 0', var_name= 'Rodada', value_name='Divididas Ganhas')"
   ]
  },
  {
   "cell_type": "code",
   "execution_count": 82,
   "metadata": {},
   "outputs": [],
   "source": [
    "df_brasileirao = resultado_df.merge(posse_df, on = ['Unnamed: 0', 'Rodada']).merge(gol_df, on=['Unnamed: 0', 'Rodada']).merge(golc_df, on=['Unnamed: 0', 'Rodada']).merge(chute_df, on=['Unnamed: 0', 'Rodada']) .merge(falta_df, on=['Unnamed: 0', 'Rodada']) .merge(escanteio_df, on=['Unnamed: 0', 'Rodada']) .merge(impedimento_df, on=['Unnamed: 0', 'Rodada']) .merge(chute_no_gol_df, on=['Unnamed: 0', 'Rodada']) .merge(passe_certo_df, on=['Unnamed: 0', 'Rodada']) .merge(total_passe_df, on=['Unnamed: 0', 'Rodada']) .merge(defesas_df, on=['Unnamed: 0', 'Rodada']) .merge(faltas_sofridas_df, on=['Unnamed: 0', 'Rodada']) .merge(chutes_fora_df, on=['Unnamed: 0', 'Rodada']) .merge(divididas_ganhas_df, on=['Unnamed: 0', 'Rodada'])"
   ]
  },
  {
   "cell_type": "code",
   "execution_count": 83,
   "metadata": {},
   "outputs": [],
   "source": [
    "df_brasileirao.rename(columns={'Unnamed: 0':'Clube'}, inplace=True)"
   ]
  },
  {
   "cell_type": "code",
   "execution_count": 91,
   "metadata": {},
   "outputs": [],
   "source": [
    "brasileirao = df_brasileirao.sort_values('Rodada')"
   ]
  },
  {
   "cell_type": "code",
   "execution_count": 92,
   "metadata": {},
   "outputs": [],
   "source": [
    "brasileirao.to_excel('Scout Brasileirão.xlsx')"
   ]
  }
 ],
 "metadata": {
  "kernelspec": {
   "display_name": "Python 3",
   "language": "python",
   "name": "python3"
  },
  "language_info": {
   "codemirror_mode": {
    "name": "ipython",
    "version": 3
   },
   "file_extension": ".py",
   "mimetype": "text/x-python",
   "name": "python",
   "nbconvert_exporter": "python",
   "pygments_lexer": "ipython3",
   "version": "3.8.5"
  }
 },
 "nbformat": 4,
 "nbformat_minor": 4
}
